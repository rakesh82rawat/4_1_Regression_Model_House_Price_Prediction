{
 "cells": [
  {
   "cell_type": "markdown",
   "id": "0e86b366",
   "metadata": {},
   "source": [
    "#### Multiple Linear Regression model to predict house prices in Bangalore city in India.\n",
    "\n",
    "About the File :\n",
    "The problem that we are going to solve here is that given a set of features that describe a house in Hyderabad (India). \n",
    "We will be creating a Machine learning model to predict House Price using Linear Regression and other model regularisation techniques like Lasso and Ridge regression. We also use column Transformers to work with heterogeneous data of the dataset that require different pre-processing techniques (for numeric and categorical features). \n",
    "\n",
    "We will be using the Bangaluru House Price data from Kaggle https://www.kaggle.com/datasets/amitabhajoy/bengaluru-house-price-data"
   ]
  },
  {
   "cell_type": "code",
   "execution_count": 55,
   "id": "34d3f958",
   "metadata": {},
   "outputs": [],
   "source": [
    "import numpy as np   \n",
    "import pandas as pd    \n",
    "import seaborn as sns\n",
    "import matplotlib.pyplot as plt   \n",
    "import matplotlib.style\n",
    "from sklearn.model_selection import train_test_split\n",
    "\n",
    "import warnings\n",
    "warnings.filterwarnings(\"ignore\")\n",
    "\n",
    "#LINEAR REGRESSION specific Imports\n",
    "from sklearn.linear_model import LinearRegression, Ridge, Lasso\n",
    "from sklearn import metrics\n",
    "from sklearn.metrics import r2_score\n",
    "from sklearn.preprocessing import OneHotEncoder, StandardScaler\n",
    "from sklearn.compose import make_column_transformer\n",
    "from sklearn.pipeline import make_pipeline"
   ]
  },
  {
   "cell_type": "markdown",
   "id": "76398d96",
   "metadata": {},
   "source": [
    "### APPROACH\n",
    "\n",
    "[READ DATA](#Read-Data) \n",
    "\n",
    "[DATA PRE-PROCESSING](#DATA-PRE-PROCESSING)  \n",
    "Remove_ID & dups + impute_nulls  \n",
    "Num/Cat_cols creation  \n",
    "Convert_dType: Object to category(Nominal or Ordinal or Boolian)  \n",
    "Unique vals for cat_vars (obj dtype)  \n",
    "Dummy/Encoding for cat dType)  \n",
    "\n",
    "[EDA](#EDA)  \n",
    "Correlation-Heat_Map (identify high Corr.b/w vars)  \n",
    "Box-plot (Outlier treatment)  \n",
    "Pair plot(Check Normal distr. of Y -transform if not ND)  \n",
    "\n",
    "[MODELING](#MODELING)  \n",
    "> TEST TRAIN SPLIT  \n",
    "Predictors in X and Response in y dataframe  \n",
    "Data split (X_train, X_test, y_train, y_test)\n",
    "\n",
    "> MODEL FITTING  \n",
    "Model Invoking  \n",
    "Model Fitting  \n",
    "Using Column transformers for transforming features\n",
    "\n",
    "[Applying Linear Regression](#Applying-Linear-Regression)  \n",
    "  \n",
    "  \n",
    "MODEL REGULARISATION  \n",
    "  \n",
    "  \n",
    "[Applying Lasso regression](#Applying-Lasso-regression)  \n",
    "\n",
    "[Applying Ridge regression](#Applying-Ridge-regression)\n",
    "\n",
    "> MODEL ANALYSIS by Calculating R-square"
   ]
  },
  {
   "cell_type": "markdown",
   "id": "8ede5751",
   "metadata": {},
   "source": [
    "### Read Data"
   ]
  },
  {
   "cell_type": "code",
   "execution_count": 44,
   "id": "367f16f3",
   "metadata": {},
   "outputs": [],
   "source": [
    "# reading the CSV file into pandas dataframe\n",
    "df = pd.read_csv('m4_house_price_data.csv')"
   ]
  },
  {
   "cell_type": "code",
   "execution_count": 45,
   "id": "3ac1e5c2",
   "metadata": {
    "scrolled": true
   },
   "outputs": [
    {
     "data": {
      "text/html": [
       "<div>\n",
       "<style scoped>\n",
       "    .dataframe tbody tr th:only-of-type {\n",
       "        vertical-align: middle;\n",
       "    }\n",
       "\n",
       "    .dataframe tbody tr th {\n",
       "        vertical-align: top;\n",
       "    }\n",
       "\n",
       "    .dataframe thead th {\n",
       "        text-align: right;\n",
       "    }\n",
       "</style>\n",
       "<table border=\"1\" class=\"dataframe\">\n",
       "  <thead>\n",
       "    <tr style=\"text-align: right;\">\n",
       "      <th></th>\n",
       "      <th>area_type</th>\n",
       "      <th>availability</th>\n",
       "      <th>location</th>\n",
       "      <th>size</th>\n",
       "      <th>society</th>\n",
       "      <th>total_sqft</th>\n",
       "      <th>bath</th>\n",
       "      <th>balcony</th>\n",
       "      <th>price</th>\n",
       "    </tr>\n",
       "  </thead>\n",
       "  <tbody>\n",
       "    <tr>\n",
       "      <th>0</th>\n",
       "      <td>Super built-up  Area</td>\n",
       "      <td>19-Dec</td>\n",
       "      <td>Electronic City Phase II</td>\n",
       "      <td>2 BHK</td>\n",
       "      <td>Coomee</td>\n",
       "      <td>1056</td>\n",
       "      <td>2.0</td>\n",
       "      <td>1.0</td>\n",
       "      <td>39.07</td>\n",
       "    </tr>\n",
       "    <tr>\n",
       "      <th>1</th>\n",
       "      <td>Plot  Area</td>\n",
       "      <td>Ready To Move</td>\n",
       "      <td>Chikka Tirupathi</td>\n",
       "      <td>4 Bedroom</td>\n",
       "      <td>Theanmp</td>\n",
       "      <td>2600</td>\n",
       "      <td>5.0</td>\n",
       "      <td>3.0</td>\n",
       "      <td>120.00</td>\n",
       "    </tr>\n",
       "    <tr>\n",
       "      <th>2</th>\n",
       "      <td>Built-up  Area</td>\n",
       "      <td>Ready To Move</td>\n",
       "      <td>Uttarahalli</td>\n",
       "      <td>3 BHK</td>\n",
       "      <td>NaN</td>\n",
       "      <td>1440</td>\n",
       "      <td>2.0</td>\n",
       "      <td>3.0</td>\n",
       "      <td>62.00</td>\n",
       "    </tr>\n",
       "    <tr>\n",
       "      <th>3</th>\n",
       "      <td>Super built-up  Area</td>\n",
       "      <td>Ready To Move</td>\n",
       "      <td>Lingadheeranahalli</td>\n",
       "      <td>3 BHK</td>\n",
       "      <td>Soiewre</td>\n",
       "      <td>1521</td>\n",
       "      <td>3.0</td>\n",
       "      <td>1.0</td>\n",
       "      <td>95.00</td>\n",
       "    </tr>\n",
       "    <tr>\n",
       "      <th>4</th>\n",
       "      <td>Super built-up  Area</td>\n",
       "      <td>Ready To Move</td>\n",
       "      <td>Kothanur</td>\n",
       "      <td>2 BHK</td>\n",
       "      <td>NaN</td>\n",
       "      <td>1200</td>\n",
       "      <td>2.0</td>\n",
       "      <td>1.0</td>\n",
       "      <td>51.00</td>\n",
       "    </tr>\n",
       "  </tbody>\n",
       "</table>\n",
       "</div>"
      ],
      "text/plain": [
       "              area_type   availability                  location       size  \\\n",
       "0  Super built-up  Area         19-Dec  Electronic City Phase II      2 BHK   \n",
       "1            Plot  Area  Ready To Move          Chikka Tirupathi  4 Bedroom   \n",
       "2        Built-up  Area  Ready To Move               Uttarahalli      3 BHK   \n",
       "3  Super built-up  Area  Ready To Move        Lingadheeranahalli      3 BHK   \n",
       "4  Super built-up  Area  Ready To Move                  Kothanur      2 BHK   \n",
       "\n",
       "   society total_sqft  bath  balcony   price  \n",
       "0  Coomee        1056   2.0      1.0   39.07  \n",
       "1  Theanmp       2600   5.0      3.0  120.00  \n",
       "2      NaN       1440   2.0      3.0   62.00  \n",
       "3  Soiewre       1521   3.0      1.0   95.00  \n",
       "4      NaN       1200   2.0      1.0   51.00  "
      ]
     },
     "execution_count": 45,
     "metadata": {},
     "output_type": "execute_result"
    }
   ],
   "source": [
    "df.head(5)"
   ]
  },
  {
   "cell_type": "code",
   "execution_count": 18,
   "id": "c2526c65",
   "metadata": {},
   "outputs": [
    {
     "name": "stdout",
     "output_type": "stream",
     "text": [
      "<class 'pandas.core.frame.DataFrame'>\n",
      "RangeIndex: 13320 entries, 0 to 13319\n",
      "Data columns (total 9 columns):\n",
      " #   Column        Non-Null Count  Dtype  \n",
      "---  ------        --------------  -----  \n",
      " 0   area_type     13320 non-null  object \n",
      " 1   availability  13320 non-null  object \n",
      " 2   location      13319 non-null  object \n",
      " 3   size          13304 non-null  object \n",
      " 4   society       7818 non-null   object \n",
      " 5   total_sqft    13320 non-null  object \n",
      " 6   bath          13247 non-null  float64\n",
      " 7   balcony       12711 non-null  float64\n",
      " 8   price         13320 non-null  float64\n",
      "dtypes: float64(3), object(6)\n",
      "memory usage: 936.7+ KB\n"
     ]
    }
   ],
   "source": [
    "df.info()"
   ]
  },
  {
   "cell_type": "code",
   "execution_count": 19,
   "id": "e20808f7",
   "metadata": {
    "scrolled": false
   },
   "outputs": [
    {
     "data": {
      "text/html": [
       "<div>\n",
       "<style scoped>\n",
       "    .dataframe tbody tr th:only-of-type {\n",
       "        vertical-align: middle;\n",
       "    }\n",
       "\n",
       "    .dataframe tbody tr th {\n",
       "        vertical-align: top;\n",
       "    }\n",
       "\n",
       "    .dataframe thead th {\n",
       "        text-align: right;\n",
       "    }\n",
       "</style>\n",
       "<table border=\"1\" class=\"dataframe\">\n",
       "  <thead>\n",
       "    <tr style=\"text-align: right;\">\n",
       "      <th></th>\n",
       "      <th>count</th>\n",
       "      <th>unique</th>\n",
       "      <th>top</th>\n",
       "      <th>freq</th>\n",
       "      <th>mean</th>\n",
       "      <th>std</th>\n",
       "      <th>min</th>\n",
       "      <th>25%</th>\n",
       "      <th>50%</th>\n",
       "      <th>75%</th>\n",
       "      <th>max</th>\n",
       "    </tr>\n",
       "  </thead>\n",
       "  <tbody>\n",
       "    <tr>\n",
       "      <th>area_type</th>\n",
       "      <td>13320</td>\n",
       "      <td>4</td>\n",
       "      <td>Super built-up  Area</td>\n",
       "      <td>8790</td>\n",
       "      <td>NaN</td>\n",
       "      <td>NaN</td>\n",
       "      <td>NaN</td>\n",
       "      <td>NaN</td>\n",
       "      <td>NaN</td>\n",
       "      <td>NaN</td>\n",
       "      <td>NaN</td>\n",
       "    </tr>\n",
       "    <tr>\n",
       "      <th>availability</th>\n",
       "      <td>13320</td>\n",
       "      <td>81</td>\n",
       "      <td>Ready To Move</td>\n",
       "      <td>10581</td>\n",
       "      <td>NaN</td>\n",
       "      <td>NaN</td>\n",
       "      <td>NaN</td>\n",
       "      <td>NaN</td>\n",
       "      <td>NaN</td>\n",
       "      <td>NaN</td>\n",
       "      <td>NaN</td>\n",
       "    </tr>\n",
       "    <tr>\n",
       "      <th>location</th>\n",
       "      <td>13319</td>\n",
       "      <td>1305</td>\n",
       "      <td>Whitefield</td>\n",
       "      <td>540</td>\n",
       "      <td>NaN</td>\n",
       "      <td>NaN</td>\n",
       "      <td>NaN</td>\n",
       "      <td>NaN</td>\n",
       "      <td>NaN</td>\n",
       "      <td>NaN</td>\n",
       "      <td>NaN</td>\n",
       "    </tr>\n",
       "    <tr>\n",
       "      <th>size</th>\n",
       "      <td>13304</td>\n",
       "      <td>31</td>\n",
       "      <td>2 BHK</td>\n",
       "      <td>5199</td>\n",
       "      <td>NaN</td>\n",
       "      <td>NaN</td>\n",
       "      <td>NaN</td>\n",
       "      <td>NaN</td>\n",
       "      <td>NaN</td>\n",
       "      <td>NaN</td>\n",
       "      <td>NaN</td>\n",
       "    </tr>\n",
       "    <tr>\n",
       "      <th>society</th>\n",
       "      <td>7818</td>\n",
       "      <td>2688</td>\n",
       "      <td>GrrvaGr</td>\n",
       "      <td>80</td>\n",
       "      <td>NaN</td>\n",
       "      <td>NaN</td>\n",
       "      <td>NaN</td>\n",
       "      <td>NaN</td>\n",
       "      <td>NaN</td>\n",
       "      <td>NaN</td>\n",
       "      <td>NaN</td>\n",
       "    </tr>\n",
       "    <tr>\n",
       "      <th>total_sqft</th>\n",
       "      <td>13320</td>\n",
       "      <td>2117</td>\n",
       "      <td>1200</td>\n",
       "      <td>843</td>\n",
       "      <td>NaN</td>\n",
       "      <td>NaN</td>\n",
       "      <td>NaN</td>\n",
       "      <td>NaN</td>\n",
       "      <td>NaN</td>\n",
       "      <td>NaN</td>\n",
       "      <td>NaN</td>\n",
       "    </tr>\n",
       "    <tr>\n",
       "      <th>bath</th>\n",
       "      <td>13247.0</td>\n",
       "      <td>NaN</td>\n",
       "      <td>NaN</td>\n",
       "      <td>NaN</td>\n",
       "      <td>2.69261</td>\n",
       "      <td>1.341458</td>\n",
       "      <td>1.0</td>\n",
       "      <td>2.0</td>\n",
       "      <td>2.0</td>\n",
       "      <td>3.0</td>\n",
       "      <td>40.0</td>\n",
       "    </tr>\n",
       "    <tr>\n",
       "      <th>balcony</th>\n",
       "      <td>12711.0</td>\n",
       "      <td>NaN</td>\n",
       "      <td>NaN</td>\n",
       "      <td>NaN</td>\n",
       "      <td>1.584376</td>\n",
       "      <td>0.817263</td>\n",
       "      <td>0.0</td>\n",
       "      <td>1.0</td>\n",
       "      <td>2.0</td>\n",
       "      <td>2.0</td>\n",
       "      <td>3.0</td>\n",
       "    </tr>\n",
       "    <tr>\n",
       "      <th>price</th>\n",
       "      <td>13320.0</td>\n",
       "      <td>NaN</td>\n",
       "      <td>NaN</td>\n",
       "      <td>NaN</td>\n",
       "      <td>112.565627</td>\n",
       "      <td>148.971674</td>\n",
       "      <td>8.0</td>\n",
       "      <td>50.0</td>\n",
       "      <td>72.0</td>\n",
       "      <td>120.0</td>\n",
       "      <td>3600.0</td>\n",
       "    </tr>\n",
       "  </tbody>\n",
       "</table>\n",
       "</div>"
      ],
      "text/plain": [
       "                count unique                   top   freq        mean  \\\n",
       "area_type       13320      4  Super built-up  Area   8790         NaN   \n",
       "availability    13320     81         Ready To Move  10581         NaN   \n",
       "location        13319   1305            Whitefield    540         NaN   \n",
       "size            13304     31                 2 BHK   5199         NaN   \n",
       "society          7818   2688               GrrvaGr     80         NaN   \n",
       "total_sqft      13320   2117                  1200    843         NaN   \n",
       "bath          13247.0    NaN                   NaN    NaN     2.69261   \n",
       "balcony       12711.0    NaN                   NaN    NaN    1.584376   \n",
       "price         13320.0    NaN                   NaN    NaN  112.565627   \n",
       "\n",
       "                     std  min   25%   50%    75%     max  \n",
       "area_type            NaN  NaN   NaN   NaN    NaN     NaN  \n",
       "availability         NaN  NaN   NaN   NaN    NaN     NaN  \n",
       "location             NaN  NaN   NaN   NaN    NaN     NaN  \n",
       "size                 NaN  NaN   NaN   NaN    NaN     NaN  \n",
       "society              NaN  NaN   NaN   NaN    NaN     NaN  \n",
       "total_sqft           NaN  NaN   NaN   NaN    NaN     NaN  \n",
       "bath            1.341458  1.0   2.0   2.0    3.0    40.0  \n",
       "balcony         0.817263  0.0   1.0   2.0    2.0     3.0  \n",
       "price         148.971674  8.0  50.0  72.0  120.0  3600.0  "
      ]
     },
     "execution_count": 19,
     "metadata": {},
     "output_type": "execute_result"
    }
   ],
   "source": [
    "df.describe(include='all').T"
   ]
  },
  {
   "cell_type": "markdown",
   "id": "9bb84fff",
   "metadata": {},
   "source": [
    "### DATA PRE-PROCESSING"
   ]
  },
  {
   "cell_type": "code",
   "execution_count": 20,
   "id": "e159e9c2",
   "metadata": {},
   "outputs": [
    {
     "data": {
      "text/plain": [
       "529"
      ]
     },
     "execution_count": 20,
     "metadata": {},
     "output_type": "execute_result"
    }
   ],
   "source": [
    "# Finding duplicates\n",
    "df.duplicated().sum()"
   ]
  },
  {
   "cell_type": "code",
   "execution_count": 21,
   "id": "88698c73",
   "metadata": {},
   "outputs": [
    {
     "name": "stdout",
     "output_type": "stream",
     "text": [
      "Before (13320, 9)\n",
      "After (12791, 9)\n"
     ]
    }
   ],
   "source": [
    "print('Before',df.shape)\n",
    "df.drop_duplicates(inplace=True) \n",
    "print('After',df.shape)"
   ]
  },
  {
   "cell_type": "code",
   "execution_count": 22,
   "id": "d2074e0f",
   "metadata": {},
   "outputs": [],
   "source": [
    "# Creating Lists of columns for numeric and categorical types\n",
    "num_cols = [col for col in df if df.dtypes[col] != 'object']\n",
    "cat_cols = [col for col in df if df.dtypes[col] == 'object']"
   ]
  },
  {
   "cell_type": "code",
   "execution_count": 23,
   "id": "11dd4771",
   "metadata": {},
   "outputs": [
    {
     "data": {
      "text/html": [
       "<div>\n",
       "<style scoped>\n",
       "    .dataframe tbody tr th:only-of-type {\n",
       "        vertical-align: middle;\n",
       "    }\n",
       "\n",
       "    .dataframe tbody tr th {\n",
       "        vertical-align: top;\n",
       "    }\n",
       "\n",
       "    .dataframe thead th {\n",
       "        text-align: right;\n",
       "    }\n",
       "</style>\n",
       "<table border=\"1\" class=\"dataframe\">\n",
       "  <thead>\n",
       "    <tr style=\"text-align: right;\">\n",
       "      <th></th>\n",
       "      <th>area_type</th>\n",
       "      <th>availability</th>\n",
       "      <th>location</th>\n",
       "      <th>size</th>\n",
       "      <th>society</th>\n",
       "      <th>total_sqft</th>\n",
       "      <th>bath</th>\n",
       "      <th>balcony</th>\n",
       "      <th>price</th>\n",
       "    </tr>\n",
       "  </thead>\n",
       "  <tbody>\n",
       "    <tr>\n",
       "      <th>0</th>\n",
       "      <td>Super built-up  Area</td>\n",
       "      <td>19-Dec</td>\n",
       "      <td>Electronic City Phase II</td>\n",
       "      <td>2 BHK</td>\n",
       "      <td>Coomee</td>\n",
       "      <td>1056</td>\n",
       "      <td>2.0</td>\n",
       "      <td>1.0</td>\n",
       "      <td>39.07</td>\n",
       "    </tr>\n",
       "    <tr>\n",
       "      <th>1</th>\n",
       "      <td>Plot  Area</td>\n",
       "      <td>Ready To Move</td>\n",
       "      <td>Chikka Tirupathi</td>\n",
       "      <td>4 Bedroom</td>\n",
       "      <td>Theanmp</td>\n",
       "      <td>2600</td>\n",
       "      <td>5.0</td>\n",
       "      <td>3.0</td>\n",
       "      <td>120.00</td>\n",
       "    </tr>\n",
       "    <tr>\n",
       "      <th>2</th>\n",
       "      <td>Built-up  Area</td>\n",
       "      <td>Ready To Move</td>\n",
       "      <td>Uttarahalli</td>\n",
       "      <td>3 BHK</td>\n",
       "      <td>NaN</td>\n",
       "      <td>1440</td>\n",
       "      <td>2.0</td>\n",
       "      <td>3.0</td>\n",
       "      <td>62.00</td>\n",
       "    </tr>\n",
       "    <tr>\n",
       "      <th>3</th>\n",
       "      <td>Super built-up  Area</td>\n",
       "      <td>Ready To Move</td>\n",
       "      <td>Lingadheeranahalli</td>\n",
       "      <td>3 BHK</td>\n",
       "      <td>Soiewre</td>\n",
       "      <td>1521</td>\n",
       "      <td>3.0</td>\n",
       "      <td>1.0</td>\n",
       "      <td>95.00</td>\n",
       "    </tr>\n",
       "    <tr>\n",
       "      <th>4</th>\n",
       "      <td>Super built-up  Area</td>\n",
       "      <td>Ready To Move</td>\n",
       "      <td>Kothanur</td>\n",
       "      <td>2 BHK</td>\n",
       "      <td>NaN</td>\n",
       "      <td>1200</td>\n",
       "      <td>2.0</td>\n",
       "      <td>1.0</td>\n",
       "      <td>51.00</td>\n",
       "    </tr>\n",
       "  </tbody>\n",
       "</table>\n",
       "</div>"
      ],
      "text/plain": [
       "              area_type   availability                  location       size  \\\n",
       "0  Super built-up  Area         19-Dec  Electronic City Phase II      2 BHK   \n",
       "1            Plot  Area  Ready To Move          Chikka Tirupathi  4 Bedroom   \n",
       "2        Built-up  Area  Ready To Move               Uttarahalli      3 BHK   \n",
       "3  Super built-up  Area  Ready To Move        Lingadheeranahalli      3 BHK   \n",
       "4  Super built-up  Area  Ready To Move                  Kothanur      2 BHK   \n",
       "\n",
       "   society total_sqft  bath  balcony   price  \n",
       "0  Coomee        1056   2.0      1.0   39.07  \n",
       "1  Theanmp       2600   5.0      3.0  120.00  \n",
       "2      NaN       1440   2.0      3.0   62.00  \n",
       "3  Soiewre       1521   3.0      1.0   95.00  \n",
       "4      NaN       1200   2.0      1.0   51.00  "
      ]
     },
     "execution_count": 23,
     "metadata": {},
     "output_type": "execute_result"
    }
   ],
   "source": [
    "df.head(5)"
   ]
  },
  {
   "cell_type": "code",
   "execution_count": 24,
   "id": "c5873880",
   "metadata": {},
   "outputs": [
    {
     "name": "stdout",
     "output_type": "stream",
     "text": [
      "AREA_TYPE :  4\n",
      "Super built-up  Area    8317\n",
      "Built-up  Area          2398\n",
      "Plot  Area              1989\n",
      "Carpet  Area              87\n",
      "Name: area_type, dtype: int64\n",
      "\n",
      "\n",
      "AVAILABILITY :  81\n",
      "Ready To Move    10172\n",
      "18-May             292\n",
      "18-Dec             284\n",
      "18-Apr             269\n",
      "18-Aug             187\n",
      "                 ...  \n",
      "14-Nov               1\n",
      "17-Jan               1\n",
      "16-Nov               1\n",
      "16-Jan               1\n",
      "14-Jul               1\n",
      "Name: availability, Length: 81, dtype: int64\n",
      "\n",
      "\n",
      "LOCATION :  1305\n",
      "Whitefield              523\n",
      "Sarjapur  Road          379\n",
      "Electronic City         287\n",
      "Kanakpura Road          249\n",
      "Thanisandra             229\n",
      "                       ... \n",
      "Richmond Road             1\n",
      "Kanakapura  Rod           1\n",
      "Off Bannergatta Road      1\n",
      "Bhattarahalli             1\n",
      "Abshot Layout             1\n",
      "Name: location, Length: 1305, dtype: int64\n",
      "\n",
      "\n",
      "SIZE :  31\n",
      "2 BHK         4931\n",
      "3 BHK         4120\n",
      "4 Bedroom      824\n",
      "4 BHK          574\n",
      "3 Bedroom      535\n",
      "1 BHK          521\n",
      "2 Bedroom      314\n",
      "5 Bedroom      291\n",
      "6 Bedroom      191\n",
      "1 Bedroom      104\n",
      "8 Bedroom       84\n",
      "7 Bedroom       82\n",
      "5 BHK           59\n",
      "9 Bedroom       46\n",
      "6 BHK           30\n",
      "7 BHK           17\n",
      "1 RK            13\n",
      "10 Bedroom      12\n",
      "9 BHK            8\n",
      "8 BHK            5\n",
      "11 BHK           2\n",
      "11 Bedroom       2\n",
      "10 BHK           2\n",
      "14 BHK           1\n",
      "13 BHK           1\n",
      "12 Bedroom       1\n",
      "27 BHK           1\n",
      "43 Bedroom       1\n",
      "16 BHK           1\n",
      "19 BHK           1\n",
      "18 Bedroom       1\n",
      "Name: size, dtype: int64\n",
      "\n",
      "\n",
      "SOCIETY :  2688\n",
      "GrrvaGr    68\n",
      "PrarePa    63\n",
      "Sryalan    56\n",
      "Prtates    54\n",
      "GMown E    52\n",
      "           ..\n",
      "Chaldi      1\n",
      "Pre 1ri     1\n",
      "SBiewid     1\n",
      "DSoodSh     1\n",
      "RSntsAp     1\n",
      "Name: society, Length: 2688, dtype: int64\n",
      "\n",
      "\n",
      "TOTAL_SQFT :  2117\n",
      "1200          808\n",
      "1100          210\n",
      "1500          202\n",
      "2400          196\n",
      "600           178\n",
      "             ... \n",
      "754             1\n",
      "2444            1\n",
      "3290            1\n",
      "629 - 1026      1\n",
      "4689            1\n",
      "Name: total_sqft, Length: 2117, dtype: int64\n",
      "\n",
      "\n"
     ]
    }
   ],
   "source": [
    "# unique values for categorical variables\n",
    "for col in cat_cols:\n",
    "    print(col.upper(),': ',df[col].nunique())\n",
    "    print(df[col].value_counts().sort_values(ascending=[False]))\n",
    "    print('\\n')"
   ]
  },
  {
   "cell_type": "code",
   "execution_count": 12,
   "id": "21cdb3b9",
   "metadata": {
    "scrolled": true
   },
   "outputs": [
    {
     "data": {
      "text/plain": [
       "location       1\n",
       "size          16\n",
       "society     5328\n",
       "bath          73\n",
       "balcony      605\n",
       "dtype: int64"
      ]
     },
     "execution_count": 12,
     "metadata": {},
     "output_type": "execute_result"
    }
   ],
   "source": [
    "# Identifying columns with missing values\n",
    "\n",
    "df.isna().sum()[df.isna().sum()>0]"
   ]
  },
  {
   "cell_type": "code",
   "execution_count": 25,
   "id": "9732229b",
   "metadata": {},
   "outputs": [],
   "source": [
    "# Dropping Society col as its having high missing values\n",
    "df.drop(['society'],axis=1,inplace=True)"
   ]
  },
  {
   "cell_type": "code",
   "execution_count": 26,
   "id": "6140a68c",
   "metadata": {},
   "outputs": [
    {
     "data": {
      "text/plain": [
       "location      1\n",
       "size         16\n",
       "bath         73\n",
       "balcony     605\n",
       "dtype: int64"
      ]
     },
     "execution_count": 26,
     "metadata": {},
     "output_type": "execute_result"
    }
   ],
   "source": [
    "df.isna().sum()[df.isna().sum()>0]"
   ]
  },
  {
   "cell_type": "code",
   "execution_count": 27,
   "id": "cc6e4ba4",
   "metadata": {},
   "outputs": [],
   "source": [
    "#imputing missing values in location with mode\n",
    "df['location'].fillna(df['location'].mode()[0],inplace=True)"
   ]
  },
  {
   "cell_type": "code",
   "execution_count": 28,
   "id": "3584fcd8",
   "metadata": {},
   "outputs": [],
   "source": [
    "#dropping missing values rows\n",
    "df.dropna(axis=0, subset = ('size','bath','balcony'),inplace=True)"
   ]
  },
  {
   "cell_type": "code",
   "execution_count": 31,
   "id": "cacce375",
   "metadata": {},
   "outputs": [
    {
     "data": {
      "text/plain": [
       "Series([], dtype: int64)"
      ]
     },
     "execution_count": 31,
     "metadata": {},
     "output_type": "execute_result"
    }
   ],
   "source": [
    "df.isna().sum()[df.isna().sum()>0]\n",
    "\n",
    "# No null values remaining"
   ]
  },
  {
   "cell_type": "code",
   "execution_count": 32,
   "id": "cd00ab71",
   "metadata": {},
   "outputs": [],
   "source": [
    "# Renaming col Size with bhk\n",
    "df['bhk']=df['size'].str.split().str.get(0).astype(int)"
   ]
  },
  {
   "cell_type": "code",
   "execution_count": 116,
   "id": "cc2c2fb1",
   "metadata": {},
   "outputs": [
    {
     "data": {
      "text/html": [
       "<div>\n",
       "<style scoped>\n",
       "    .dataframe tbody tr th:only-of-type {\n",
       "        vertical-align: middle;\n",
       "    }\n",
       "\n",
       "    .dataframe tbody tr th {\n",
       "        vertical-align: top;\n",
       "    }\n",
       "\n",
       "    .dataframe thead th {\n",
       "        text-align: right;\n",
       "    }\n",
       "</style>\n",
       "<table border=\"1\" class=\"dataframe\">\n",
       "  <thead>\n",
       "    <tr style=\"text-align: right;\">\n",
       "      <th></th>\n",
       "      <th>area_type</th>\n",
       "      <th>availability</th>\n",
       "      <th>location</th>\n",
       "      <th>size</th>\n",
       "      <th>total_sqft</th>\n",
       "      <th>bath</th>\n",
       "      <th>balcony</th>\n",
       "      <th>price</th>\n",
       "      <th>bhk</th>\n",
       "    </tr>\n",
       "  </thead>\n",
       "  <tbody>\n",
       "    <tr>\n",
       "      <th>459</th>\n",
       "      <td>Super built-up  Area</td>\n",
       "      <td>Ready To Move</td>\n",
       "      <td>1 Giri Nagar</td>\n",
       "      <td>11 BHK</td>\n",
       "      <td>5000</td>\n",
       "      <td>9.0</td>\n",
       "      <td>3.0</td>\n",
       "      <td>360.0</td>\n",
       "      <td>11</td>\n",
       "    </tr>\n",
       "    <tr>\n",
       "      <th>1718</th>\n",
       "      <td>Super built-up  Area</td>\n",
       "      <td>Ready To Move</td>\n",
       "      <td>2Electronic City Phase II</td>\n",
       "      <td>27 BHK</td>\n",
       "      <td>8000</td>\n",
       "      <td>27.0</td>\n",
       "      <td>0.0</td>\n",
       "      <td>230.0</td>\n",
       "      <td>27</td>\n",
       "    </tr>\n",
       "    <tr>\n",
       "      <th>1768</th>\n",
       "      <td>Plot  Area</td>\n",
       "      <td>Ready To Move</td>\n",
       "      <td>1 Ramamurthy Nagar</td>\n",
       "      <td>11 Bedroom</td>\n",
       "      <td>1200</td>\n",
       "      <td>11.0</td>\n",
       "      <td>0.0</td>\n",
       "      <td>170.0</td>\n",
       "      <td>11</td>\n",
       "    </tr>\n",
       "    <tr>\n",
       "      <th>3853</th>\n",
       "      <td>Plot  Area</td>\n",
       "      <td>Ready To Move</td>\n",
       "      <td>1 Annasandrapalya</td>\n",
       "      <td>11 Bedroom</td>\n",
       "      <td>1200</td>\n",
       "      <td>6.0</td>\n",
       "      <td>3.0</td>\n",
       "      <td>150.0</td>\n",
       "      <td>11</td>\n",
       "    </tr>\n",
       "    <tr>\n",
       "      <th>4684</th>\n",
       "      <td>Plot  Area</td>\n",
       "      <td>Ready To Move</td>\n",
       "      <td>Munnekollal</td>\n",
       "      <td>43 Bedroom</td>\n",
       "      <td>2400</td>\n",
       "      <td>40.0</td>\n",
       "      <td>0.0</td>\n",
       "      <td>660.0</td>\n",
       "      <td>43</td>\n",
       "    </tr>\n",
       "    <tr>\n",
       "      <th>4916</th>\n",
       "      <td>Super built-up  Area</td>\n",
       "      <td>Ready To Move</td>\n",
       "      <td>1Channasandra</td>\n",
       "      <td>14 BHK</td>\n",
       "      <td>1250</td>\n",
       "      <td>15.0</td>\n",
       "      <td>0.0</td>\n",
       "      <td>125.0</td>\n",
       "      <td>14</td>\n",
       "    </tr>\n",
       "    <tr>\n",
       "      <th>6533</th>\n",
       "      <td>Plot  Area</td>\n",
       "      <td>Ready To Move</td>\n",
       "      <td>Mysore Road</td>\n",
       "      <td>12 Bedroom</td>\n",
       "      <td>2232</td>\n",
       "      <td>6.0</td>\n",
       "      <td>2.0</td>\n",
       "      <td>300.0</td>\n",
       "      <td>12</td>\n",
       "    </tr>\n",
       "    <tr>\n",
       "      <th>9935</th>\n",
       "      <td>Super built-up  Area</td>\n",
       "      <td>Ready To Move</td>\n",
       "      <td>1Hoysalanagar</td>\n",
       "      <td>13 BHK</td>\n",
       "      <td>5425</td>\n",
       "      <td>13.0</td>\n",
       "      <td>0.0</td>\n",
       "      <td>275.0</td>\n",
       "      <td>13</td>\n",
       "    </tr>\n",
       "  </tbody>\n",
       "</table>\n",
       "</div>"
      ],
      "text/plain": [
       "                 area_type   availability                   location  \\\n",
       "459   Super built-up  Area  Ready To Move               1 Giri Nagar   \n",
       "1718  Super built-up  Area  Ready To Move  2Electronic City Phase II   \n",
       "1768            Plot  Area  Ready To Move         1 Ramamurthy Nagar   \n",
       "3853            Plot  Area  Ready To Move          1 Annasandrapalya   \n",
       "4684            Plot  Area  Ready To Move                Munnekollal   \n",
       "4916  Super built-up  Area  Ready To Move              1Channasandra   \n",
       "6533            Plot  Area  Ready To Move                Mysore Road   \n",
       "9935  Super built-up  Area  Ready To Move              1Hoysalanagar   \n",
       "\n",
       "            size total_sqft  bath  balcony  price  bhk  \n",
       "459       11 BHK       5000   9.0      3.0  360.0   11  \n",
       "1718      27 BHK       8000  27.0      0.0  230.0   27  \n",
       "1768  11 Bedroom       1200  11.0      0.0  170.0   11  \n",
       "3853  11 Bedroom       1200   6.0      3.0  150.0   11  \n",
       "4684  43 Bedroom       2400  40.0      0.0  660.0   43  \n",
       "4916      14 BHK       1250  15.0      0.0  125.0   14  \n",
       "6533  12 Bedroom       2232   6.0      2.0  300.0   12  \n",
       "9935      13 BHK       5425  13.0      0.0  275.0   13  "
      ]
     },
     "execution_count": 116,
     "metadata": {},
     "output_type": "execute_result"
    }
   ],
   "source": [
    "df[df.bhk>10]"
   ]
  },
  {
   "cell_type": "code",
   "execution_count": 33,
   "id": "e8f8f225",
   "metadata": {},
   "outputs": [],
   "source": [
    "# We need to convert the range values available in 'total_sqft' column\n",
    "def range_converter(x):\n",
    "    temp = x.split('-')\n",
    "    \n",
    "    if len(temp)==2:\n",
    "        return (float(temp[0])+float(temp[1]))/2\n",
    "    \n",
    "    try:\n",
    "        return float(x)\n",
    "    except:\n",
    "        return None       \n",
    "    "
   ]
  },
  {
   "cell_type": "code",
   "execution_count": 34,
   "id": "fcc6a19b",
   "metadata": {},
   "outputs": [],
   "source": [
    "df['total_sqft']=df['total_sqft'].apply(range_converter)"
   ]
  },
  {
   "cell_type": "code",
   "execution_count": 35,
   "id": "1c4b3578",
   "metadata": {},
   "outputs": [],
   "source": [
    "#Adding price(in Rs) per unit area column\n",
    "\n",
    "df['price_per_sqft']=(df['price']*100000/df['total_sqft']).round()"
   ]
  },
  {
   "cell_type": "code",
   "execution_count": 36,
   "id": "59c4016e",
   "metadata": {},
   "outputs": [
    {
     "data": {
      "text/html": [
       "<div>\n",
       "<style scoped>\n",
       "    .dataframe tbody tr th:only-of-type {\n",
       "        vertical-align: middle;\n",
       "    }\n",
       "\n",
       "    .dataframe tbody tr th {\n",
       "        vertical-align: top;\n",
       "    }\n",
       "\n",
       "    .dataframe thead th {\n",
       "        text-align: right;\n",
       "    }\n",
       "</style>\n",
       "<table border=\"1\" class=\"dataframe\">\n",
       "  <thead>\n",
       "    <tr style=\"text-align: right;\">\n",
       "      <th></th>\n",
       "      <th>area_type</th>\n",
       "      <th>availability</th>\n",
       "      <th>location</th>\n",
       "      <th>size</th>\n",
       "      <th>total_sqft</th>\n",
       "      <th>bath</th>\n",
       "      <th>balcony</th>\n",
       "      <th>price</th>\n",
       "      <th>bhk</th>\n",
       "      <th>price_per_sqft</th>\n",
       "    </tr>\n",
       "  </thead>\n",
       "  <tbody>\n",
       "    <tr>\n",
       "      <th>0</th>\n",
       "      <td>Super built-up  Area</td>\n",
       "      <td>19-Dec</td>\n",
       "      <td>Electronic City Phase II</td>\n",
       "      <td>2 BHK</td>\n",
       "      <td>1056.0</td>\n",
       "      <td>2.0</td>\n",
       "      <td>1.0</td>\n",
       "      <td>39.07</td>\n",
       "      <td>2</td>\n",
       "      <td>3700.0</td>\n",
       "    </tr>\n",
       "    <tr>\n",
       "      <th>1</th>\n",
       "      <td>Plot  Area</td>\n",
       "      <td>Ready To Move</td>\n",
       "      <td>Chikka Tirupathi</td>\n",
       "      <td>4 Bedroom</td>\n",
       "      <td>2600.0</td>\n",
       "      <td>5.0</td>\n",
       "      <td>3.0</td>\n",
       "      <td>120.00</td>\n",
       "      <td>4</td>\n",
       "      <td>4615.0</td>\n",
       "    </tr>\n",
       "    <tr>\n",
       "      <th>2</th>\n",
       "      <td>Built-up  Area</td>\n",
       "      <td>Ready To Move</td>\n",
       "      <td>Uttarahalli</td>\n",
       "      <td>3 BHK</td>\n",
       "      <td>1440.0</td>\n",
       "      <td>2.0</td>\n",
       "      <td>3.0</td>\n",
       "      <td>62.00</td>\n",
       "      <td>3</td>\n",
       "      <td>4306.0</td>\n",
       "    </tr>\n",
       "    <tr>\n",
       "      <th>3</th>\n",
       "      <td>Super built-up  Area</td>\n",
       "      <td>Ready To Move</td>\n",
       "      <td>Lingadheeranahalli</td>\n",
       "      <td>3 BHK</td>\n",
       "      <td>1521.0</td>\n",
       "      <td>3.0</td>\n",
       "      <td>1.0</td>\n",
       "      <td>95.00</td>\n",
       "      <td>3</td>\n",
       "      <td>6246.0</td>\n",
       "    </tr>\n",
       "    <tr>\n",
       "      <th>4</th>\n",
       "      <td>Super built-up  Area</td>\n",
       "      <td>Ready To Move</td>\n",
       "      <td>Kothanur</td>\n",
       "      <td>2 BHK</td>\n",
       "      <td>1200.0</td>\n",
       "      <td>2.0</td>\n",
       "      <td>1.0</td>\n",
       "      <td>51.00</td>\n",
       "      <td>2</td>\n",
       "      <td>4250.0</td>\n",
       "    </tr>\n",
       "  </tbody>\n",
       "</table>\n",
       "</div>"
      ],
      "text/plain": [
       "              area_type   availability                  location       size  \\\n",
       "0  Super built-up  Area         19-Dec  Electronic City Phase II      2 BHK   \n",
       "1            Plot  Area  Ready To Move          Chikka Tirupathi  4 Bedroom   \n",
       "2        Built-up  Area  Ready To Move               Uttarahalli      3 BHK   \n",
       "3  Super built-up  Area  Ready To Move        Lingadheeranahalli      3 BHK   \n",
       "4  Super built-up  Area  Ready To Move                  Kothanur      2 BHK   \n",
       "\n",
       "   total_sqft  bath  balcony   price  bhk  price_per_sqft  \n",
       "0      1056.0   2.0      1.0   39.07    2          3700.0  \n",
       "1      2600.0   5.0      3.0  120.00    4          4615.0  \n",
       "2      1440.0   2.0      3.0   62.00    3          4306.0  \n",
       "3      1521.0   3.0      1.0   95.00    3          6246.0  \n",
       "4      1200.0   2.0      1.0   51.00    2          4250.0  "
      ]
     },
     "execution_count": 36,
     "metadata": {},
     "output_type": "execute_result"
    }
   ],
   "source": [
    "df.head()"
   ]
  },
  {
   "cell_type": "code",
   "execution_count": 37,
   "id": "35bddf4e",
   "metadata": {},
   "outputs": [
    {
     "data": {
      "text/plain": [
       "area_type          0\n",
       "availability       0\n",
       "location           0\n",
       "size               0\n",
       "total_sqft        42\n",
       "bath               0\n",
       "balcony            0\n",
       "price              0\n",
       "bhk                0\n",
       "price_per_sqft    42\n",
       "dtype: int64"
      ]
     },
     "execution_count": 37,
     "metadata": {},
     "output_type": "execute_result"
    }
   ],
   "source": [
    "df.isna().sum()"
   ]
  },
  {
   "cell_type": "code",
   "execution_count": 38,
   "id": "544ccbea",
   "metadata": {},
   "outputs": [],
   "source": [
    "#dropping rows with Nan to remove Null \"total_sqft\" value rows\n",
    "\n",
    "df.dropna(how='any',axis=0,inplace=True)"
   ]
  },
  {
   "cell_type": "code",
   "execution_count": 39,
   "id": "5a637752",
   "metadata": {},
   "outputs": [
    {
     "data": {
      "text/plain": [
       "area_type         0\n",
       "availability      0\n",
       "location          0\n",
       "size              0\n",
       "total_sqft        0\n",
       "bath              0\n",
       "balcony           0\n",
       "price             0\n",
       "bhk               0\n",
       "price_per_sqft    0\n",
       "dtype: int64"
      ]
     },
     "execution_count": 39,
     "metadata": {},
     "output_type": "execute_result"
    }
   ],
   "source": [
    "df.isna().sum()"
   ]
  },
  {
   "cell_type": "code",
   "execution_count": 40,
   "id": "54b1065f",
   "metadata": {},
   "outputs": [],
   "source": [
    "# Location column has 1305 unique values. This is quite large and is not favourable for encoding.\n",
    "# Hence reducing the number of unique values by combining similar values\n",
    "\n",
    "# Removing the empty spaces in location col. and getting the value counts for each location\n",
    "df['location']=df['location'].apply(lambda x:x.strip())"
   ]
  },
  {
   "cell_type": "code",
   "execution_count": 41,
   "id": "34006856",
   "metadata": {},
   "outputs": [],
   "source": [
    "#Replacing Locations with <10 value_counts to \"Others\" category so as to reduce the unique count\n",
    "df['location']=df['location'].apply(lambda x:'other'if x in df['location'].value_counts()[df['location'].value_counts()<=10] else x)"
   ]
  },
  {
   "cell_type": "code",
   "execution_count": 126,
   "id": "36455169",
   "metadata": {},
   "outputs": [
    {
     "data": {
      "text/html": [
       "<div>\n",
       "<style scoped>\n",
       "    .dataframe tbody tr th:only-of-type {\n",
       "        vertical-align: middle;\n",
       "    }\n",
       "\n",
       "    .dataframe tbody tr th {\n",
       "        vertical-align: top;\n",
       "    }\n",
       "\n",
       "    .dataframe thead th {\n",
       "        text-align: right;\n",
       "    }\n",
       "</style>\n",
       "<table border=\"1\" class=\"dataframe\">\n",
       "  <thead>\n",
       "    <tr style=\"text-align: right;\">\n",
       "      <th></th>\n",
       "      <th>area_type</th>\n",
       "      <th>availability</th>\n",
       "      <th>location</th>\n",
       "      <th>size</th>\n",
       "      <th>total_sqft</th>\n",
       "      <th>bath</th>\n",
       "      <th>balcony</th>\n",
       "      <th>price</th>\n",
       "      <th>bhk</th>\n",
       "      <th>price_per_sqft</th>\n",
       "    </tr>\n",
       "  </thead>\n",
       "  <tbody>\n",
       "    <tr>\n",
       "      <th>8933</th>\n",
       "      <td>Super built-up  Area</td>\n",
       "      <td>Ready To Move</td>\n",
       "      <td>other</td>\n",
       "      <td>3 BHK</td>\n",
       "      <td>3850.0</td>\n",
       "      <td>3.0</td>\n",
       "      <td>3.0</td>\n",
       "      <td>650.000</td>\n",
       "      <td>3</td>\n",
       "      <td>16883.0</td>\n",
       "    </tr>\n",
       "    <tr>\n",
       "      <th>12161</th>\n",
       "      <td>Super built-up  Area</td>\n",
       "      <td>19-Dec</td>\n",
       "      <td>Kanakapura</td>\n",
       "      <td>1 BHK</td>\n",
       "      <td>825.0</td>\n",
       "      <td>1.0</td>\n",
       "      <td>0.0</td>\n",
       "      <td>35.475</td>\n",
       "      <td>1</td>\n",
       "      <td>4300.0</td>\n",
       "    </tr>\n",
       "    <tr>\n",
       "      <th>6017</th>\n",
       "      <td>Plot  Area</td>\n",
       "      <td>Ready To Move</td>\n",
       "      <td>Hulimavu</td>\n",
       "      <td>5 Bedroom</td>\n",
       "      <td>1200.0</td>\n",
       "      <td>5.0</td>\n",
       "      <td>0.0</td>\n",
       "      <td>101.000</td>\n",
       "      <td>5</td>\n",
       "      <td>8417.0</td>\n",
       "    </tr>\n",
       "    <tr>\n",
       "      <th>1263</th>\n",
       "      <td>Super built-up  Area</td>\n",
       "      <td>21-Jan</td>\n",
       "      <td>Tumkur Road</td>\n",
       "      <td>3 BHK</td>\n",
       "      <td>1586.0</td>\n",
       "      <td>3.0</td>\n",
       "      <td>1.0</td>\n",
       "      <td>100.000</td>\n",
       "      <td>3</td>\n",
       "      <td>6305.0</td>\n",
       "    </tr>\n",
       "    <tr>\n",
       "      <th>11781</th>\n",
       "      <td>Built-up  Area</td>\n",
       "      <td>Ready To Move</td>\n",
       "      <td>other</td>\n",
       "      <td>2 BHK</td>\n",
       "      <td>1275.0</td>\n",
       "      <td>2.0</td>\n",
       "      <td>1.0</td>\n",
       "      <td>76.000</td>\n",
       "      <td>2</td>\n",
       "      <td>5961.0</td>\n",
       "    </tr>\n",
       "  </tbody>\n",
       "</table>\n",
       "</div>"
      ],
      "text/plain": [
       "                  area_type   availability     location       size  \\\n",
       "8933   Super built-up  Area  Ready To Move        other      3 BHK   \n",
       "12161  Super built-up  Area         19-Dec   Kanakapura      1 BHK   \n",
       "6017             Plot  Area  Ready To Move     Hulimavu  5 Bedroom   \n",
       "1263   Super built-up  Area         21-Jan  Tumkur Road      3 BHK   \n",
       "11781        Built-up  Area  Ready To Move        other      2 BHK   \n",
       "\n",
       "       total_sqft  bath  balcony    price  bhk  price_per_sqft  \n",
       "8933       3850.0   3.0      3.0  650.000    3         16883.0  \n",
       "12161       825.0   1.0      0.0   35.475    1          4300.0  \n",
       "6017       1200.0   5.0      0.0  101.000    5          8417.0  \n",
       "1263       1586.0   3.0      1.0  100.000    3          6305.0  \n",
       "11781      1275.0   2.0      1.0   76.000    2          5961.0  "
      ]
     },
     "execution_count": 126,
     "metadata": {},
     "output_type": "execute_result"
    }
   ],
   "source": [
    "df.sample(5)"
   ]
  },
  {
   "cell_type": "code",
   "execution_count": 127,
   "id": "11368751",
   "metadata": {},
   "outputs": [
    {
     "data": {
      "text/plain": [
       "other                   2808\n",
       "Whitefield               498\n",
       "Sarjapur  Road           352\n",
       "Electronic City          287\n",
       "Kanakpura Road           236\n",
       "                        ... \n",
       "Karuna Nagar              11\n",
       "Nagasandra                11\n",
       "Vishveshwarya Layout      11\n",
       "LB Shastri Nagar          11\n",
       "Mico Layout               11\n",
       "Name: location, Length: 226, dtype: int64"
      ]
     },
     "execution_count": 127,
     "metadata": {},
     "output_type": "execute_result"
    }
   ],
   "source": [
    "df['location'].value_counts()\n",
    "\n",
    "#length has reduced from 1305 to 226 with 2808 in \"Others\" category"
   ]
  },
  {
   "cell_type": "code",
   "execution_count": 128,
   "id": "2d4e5609",
   "metadata": {},
   "outputs": [
    {
     "data": {
      "text/html": [
       "<div>\n",
       "<style scoped>\n",
       "    .dataframe tbody tr th:only-of-type {\n",
       "        vertical-align: middle;\n",
       "    }\n",
       "\n",
       "    .dataframe tbody tr th {\n",
       "        vertical-align: top;\n",
       "    }\n",
       "\n",
       "    .dataframe thead th {\n",
       "        text-align: right;\n",
       "    }\n",
       "</style>\n",
       "<table border=\"1\" class=\"dataframe\">\n",
       "  <thead>\n",
       "    <tr style=\"text-align: right;\">\n",
       "      <th></th>\n",
       "      <th>count</th>\n",
       "      <th>mean</th>\n",
       "      <th>std</th>\n",
       "      <th>min</th>\n",
       "      <th>25%</th>\n",
       "      <th>50%</th>\n",
       "      <th>75%</th>\n",
       "      <th>max</th>\n",
       "    </tr>\n",
       "  </thead>\n",
       "  <tbody>\n",
       "    <tr>\n",
       "      <th>total_sqft</th>\n",
       "      <td>12144.0</td>\n",
       "      <td>1520.568928</td>\n",
       "      <td>1183.074391</td>\n",
       "      <td>5.0</td>\n",
       "      <td>1100.0</td>\n",
       "      <td>1265.5</td>\n",
       "      <td>1650.00</td>\n",
       "      <td>52272.0</td>\n",
       "    </tr>\n",
       "    <tr>\n",
       "      <th>bath</th>\n",
       "      <td>12144.0</td>\n",
       "      <td>2.630023</td>\n",
       "      <td>1.238193</td>\n",
       "      <td>1.0</td>\n",
       "      <td>2.0</td>\n",
       "      <td>2.0</td>\n",
       "      <td>3.00</td>\n",
       "      <td>40.0</td>\n",
       "    </tr>\n",
       "    <tr>\n",
       "      <th>balcony</th>\n",
       "      <td>12144.0</td>\n",
       "      <td>1.583663</td>\n",
       "      <td>0.822008</td>\n",
       "      <td>0.0</td>\n",
       "      <td>1.0</td>\n",
       "      <td>2.0</td>\n",
       "      <td>2.00</td>\n",
       "      <td>3.0</td>\n",
       "    </tr>\n",
       "    <tr>\n",
       "      <th>price</th>\n",
       "      <td>12144.0</td>\n",
       "      <td>107.522152</td>\n",
       "      <td>134.074277</td>\n",
       "      <td>8.0</td>\n",
       "      <td>50.0</td>\n",
       "      <td>70.0</td>\n",
       "      <td>115.00</td>\n",
       "      <td>2912.0</td>\n",
       "    </tr>\n",
       "    <tr>\n",
       "      <th>bhk</th>\n",
       "      <td>12144.0</td>\n",
       "      <td>2.748600</td>\n",
       "      <td>1.218238</td>\n",
       "      <td>1.0</td>\n",
       "      <td>2.0</td>\n",
       "      <td>3.0</td>\n",
       "      <td>3.00</td>\n",
       "      <td>43.0</td>\n",
       "    </tr>\n",
       "    <tr>\n",
       "      <th>price_per_sqft</th>\n",
       "      <td>12144.0</td>\n",
       "      <td>6952.093626</td>\n",
       "      <td>23108.407895</td>\n",
       "      <td>268.0</td>\n",
       "      <td>4275.5</td>\n",
       "      <td>5417.0</td>\n",
       "      <td>7228.25</td>\n",
       "      <td>2300000.0</td>\n",
       "    </tr>\n",
       "  </tbody>\n",
       "</table>\n",
       "</div>"
      ],
      "text/plain": [
       "                  count         mean           std    min     25%     50%  \\\n",
       "total_sqft      12144.0  1520.568928   1183.074391    5.0  1100.0  1265.5   \n",
       "bath            12144.0     2.630023      1.238193    1.0     2.0     2.0   \n",
       "balcony         12144.0     1.583663      0.822008    0.0     1.0     2.0   \n",
       "price           12144.0   107.522152    134.074277    8.0    50.0    70.0   \n",
       "bhk             12144.0     2.748600      1.218238    1.0     2.0     3.0   \n",
       "price_per_sqft  12144.0  6952.093626  23108.407895  268.0  4275.5  5417.0   \n",
       "\n",
       "                    75%        max  \n",
       "total_sqft      1650.00    52272.0  \n",
       "bath               3.00       40.0  \n",
       "balcony            2.00        3.0  \n",
       "price            115.00     2912.0  \n",
       "bhk                3.00       43.0  \n",
       "price_per_sqft  7228.25  2300000.0  "
      ]
     },
     "execution_count": 128,
     "metadata": {},
     "output_type": "execute_result"
    }
   ],
   "source": [
    "# Revisiting the Numeric Features to identify descrepencies.\n",
    "\n",
    "df.describe().T"
   ]
  },
  {
   "cell_type": "code",
   "execution_count": 129,
   "id": "7decfd9b",
   "metadata": {},
   "outputs": [
    {
     "data": {
      "text/plain": [
       "4972         5.0\n",
       "349         11.0\n",
       "1020        15.0\n",
       "1122        24.0\n",
       "5970        45.0\n",
       "          ...   \n",
       "12987    30400.0\n",
       "674      35000.0\n",
       "5469     36000.0\n",
       "5393     42000.0\n",
       "1894     52272.0\n",
       "Name: total_sqft, Length: 12144, dtype: float64"
      ]
     },
     "execution_count": 129,
     "metadata": {},
     "output_type": "execute_result"
    }
   ],
   "source": [
    "# ADDRESSING DISCREPENCIES \n",
    "#1. TOTAL_SQFT :The total_sqft seems to be very low in some cases\n",
    "# In general an area of 350 sqft is required for 1 BHK flat. \n",
    "# Hence we drop the observations having total_sqft below 350 sqft\n",
    "\n",
    "df.total_sqft.sort_values()"
   ]
  },
  {
   "cell_type": "code",
   "execution_count": 130,
   "id": "fb3c370b",
   "metadata": {},
   "outputs": [],
   "source": [
    "# Dropping observations with total_sqft<350 sqft\n",
    "\n",
    "df.drop(df[df['total_sqft']<350].index,inplace=True)"
   ]
  },
  {
   "cell_type": "code",
   "execution_count": 131,
   "id": "e4fc27d7",
   "metadata": {},
   "outputs": [
    {
     "data": {
      "text/plain": [
       "3741       350.0\n",
       "12464      350.0\n",
       "2557       351.0\n",
       "2041       360.0\n",
       "8494       360.0\n",
       "          ...   \n",
       "12987    30400.0\n",
       "674      35000.0\n",
       "5469     36000.0\n",
       "5393     42000.0\n",
       "1894     52272.0\n",
       "Name: total_sqft, Length: 12130, dtype: float64"
      ]
     },
     "execution_count": 131,
     "metadata": {},
     "output_type": "execute_result"
    }
   ],
   "source": [
    "df.total_sqft.sort_values()\n",
    "\n",
    "# all observations above 350 sqft now"
   ]
  },
  {
   "cell_type": "code",
   "execution_count": 132,
   "id": "5b42f246",
   "metadata": {},
   "outputs": [
    {
     "data": {
      "text/plain": [
       "12130"
      ]
     },
     "execution_count": 132,
     "metadata": {},
     "output_type": "execute_result"
    }
   ],
   "source": [
    "len(df)\n",
    "# 14 observations removed having total_sqft <350"
   ]
  },
  {
   "cell_type": "code",
   "execution_count": 133,
   "id": "c9da46b6",
   "metadata": {},
   "outputs": [
    {
     "name": "stdout",
     "output_type": "stream",
     "text": [
      "PRICE PER SQFT \n",
      " 1894        268.0\n",
      "674         371.0\n",
      "5393        417.0\n",
      "11748       500.0\n",
      "7242        574.0\n",
      "           ...   \n",
      "1567      50000.0\n",
      "7883      53150.0\n",
      "6421      76531.0\n",
      "7088      76923.0\n",
      "7657     176471.0\n",
      "Name: price_per_sqft, Length: 12130, dtype: float64\n"
     ]
    },
    {
     "data": {
      "text/plain": [
       "<AxesSubplot:xlabel='price_per_sqft'>"
      ]
     },
     "metadata": {},
     "output_type": "display_data"
    },
    {
     "data": {
      "image/png": "[encoded data removed]",
      "text/plain": [
       "<Figure size 432x288 with 1 Axes>"
      ]
     },
     "metadata": {
      "needs_background": "light"
     },
     "output_type": "display_data"
    }
   ],
   "source": [
    "#2. PRICE_PER_SQFT : We observe some exhorbitent high prices that can be considered as Outliers (Check describe table above)\n",
    "# We will remove the Outliers by comparing the price_per_sqft with the mean price_per_sqft of each location\n",
    "\n",
    "print(\"PRICE PER SQFT\",'\\n',df.price_per_sqft.sort_values());\n",
    "display(sns.boxplot(df['price_per_sqft']));"
   ]
  },
  {
   "cell_type": "code",
   "execution_count": 134,
   "id": "dbca8f79",
   "metadata": {},
   "outputs": [],
   "source": [
    "def price_outlier_treatment(data):\n",
    "    df_output = pd.DataFrame()\n",
    "    for key,sub_df in data.groupby('location'):\n",
    "        # calculating mean and std-deviation of price_per_sqft for each location\n",
    "        mean = np.mean(sub_df.price_per_sqft)\n",
    "        sd = np.std(sub_df.price_per_sqft)\n",
    "        # filtering the observations lying between 1.5 std-devs.\n",
    "        filtered_df=sub_df[(sub_df.price_per_sqft >= (mean-1.5*sd)) & (sub_df.price_per_sqft <= (mean+1.5*sd))]\n",
    "        df_output = pd.concat([df_output,filtered_df],ignore_index=True)\n",
    "    return df_output"
   ]
  },
  {
   "cell_type": "code",
   "execution_count": 135,
   "id": "3f1fa5eb",
   "metadata": {},
   "outputs": [
    {
     "data": {
      "text/html": [
       "<div>\n",
       "<style scoped>\n",
       "    .dataframe tbody tr th:only-of-type {\n",
       "        vertical-align: middle;\n",
       "    }\n",
       "\n",
       "    .dataframe tbody tr th {\n",
       "        vertical-align: top;\n",
       "    }\n",
       "\n",
       "    .dataframe thead th {\n",
       "        text-align: right;\n",
       "    }\n",
       "</style>\n",
       "<table border=\"1\" class=\"dataframe\">\n",
       "  <thead>\n",
       "    <tr style=\"text-align: right;\">\n",
       "      <th></th>\n",
       "      <th>count</th>\n",
       "      <th>mean</th>\n",
       "      <th>std</th>\n",
       "      <th>min</th>\n",
       "      <th>25%</th>\n",
       "      <th>50%</th>\n",
       "      <th>75%</th>\n",
       "      <th>max</th>\n",
       "    </tr>\n",
       "  </thead>\n",
       "  <tbody>\n",
       "    <tr>\n",
       "      <th>total_sqft</th>\n",
       "      <td>11180.0</td>\n",
       "      <td>1483.200461</td>\n",
       "      <td>1039.483315</td>\n",
       "      <td>350.0</td>\n",
       "      <td>1100.00000</td>\n",
       "      <td>1260.0</td>\n",
       "      <td>1623.0</td>\n",
       "      <td>52272.0</td>\n",
       "    </tr>\n",
       "    <tr>\n",
       "      <th>bath</th>\n",
       "      <td>11180.0</td>\n",
       "      <td>2.541592</td>\n",
       "      <td>1.108226</td>\n",
       "      <td>1.0</td>\n",
       "      <td>2.00000</td>\n",
       "      <td>2.0</td>\n",
       "      <td>3.0</td>\n",
       "      <td>27.0</td>\n",
       "    </tr>\n",
       "    <tr>\n",
       "      <th>balcony</th>\n",
       "      <td>11180.0</td>\n",
       "      <td>1.579428</td>\n",
       "      <td>0.814841</td>\n",
       "      <td>0.0</td>\n",
       "      <td>1.00000</td>\n",
       "      <td>2.0</td>\n",
       "      <td>2.0</td>\n",
       "      <td>3.0</td>\n",
       "    </tr>\n",
       "    <tr>\n",
       "      <th>price</th>\n",
       "      <td>11180.0</td>\n",
       "      <td>93.524602</td>\n",
       "      <td>91.540717</td>\n",
       "      <td>9.0</td>\n",
       "      <td>48.90375</td>\n",
       "      <td>68.0</td>\n",
       "      <td>104.0</td>\n",
       "      <td>2200.0</td>\n",
       "    </tr>\n",
       "    <tr>\n",
       "      <th>bhk</th>\n",
       "      <td>11180.0</td>\n",
       "      <td>2.658050</td>\n",
       "      <td>1.070789</td>\n",
       "      <td>1.0</td>\n",
       "      <td>2.00000</td>\n",
       "      <td>2.0</td>\n",
       "      <td>3.0</td>\n",
       "      <td>27.0</td>\n",
       "    </tr>\n",
       "    <tr>\n",
       "      <th>price_per_sqft</th>\n",
       "      <td>11180.0</td>\n",
       "      <td>5996.581485</td>\n",
       "      <td>2812.935776</td>\n",
       "      <td>268.0</td>\n",
       "      <td>4229.50000</td>\n",
       "      <td>5268.0</td>\n",
       "      <td>6767.0</td>\n",
       "      <td>24000.0</td>\n",
       "    </tr>\n",
       "  </tbody>\n",
       "</table>\n",
       "</div>"
      ],
      "text/plain": [
       "                  count         mean          std    min         25%     50%  \\\n",
       "total_sqft      11180.0  1483.200461  1039.483315  350.0  1100.00000  1260.0   \n",
       "bath            11180.0     2.541592     1.108226    1.0     2.00000     2.0   \n",
       "balcony         11180.0     1.579428     0.814841    0.0     1.00000     2.0   \n",
       "price           11180.0    93.524602    91.540717    9.0    48.90375    68.0   \n",
       "bhk             11180.0     2.658050     1.070789    1.0     2.00000     2.0   \n",
       "price_per_sqft  11180.0  5996.581485  2812.935776  268.0  4229.50000  5268.0   \n",
       "\n",
       "                   75%      max  \n",
       "total_sqft      1623.0  52272.0  \n",
       "bath               3.0     27.0  \n",
       "balcony            2.0      3.0  \n",
       "price            104.0   2200.0  \n",
       "bhk                3.0     27.0  \n",
       "price_per_sqft  6767.0  24000.0  "
      ]
     },
     "execution_count": 135,
     "metadata": {},
     "output_type": "execute_result"
    }
   ],
   "source": [
    "# Treating the outliers in the data by using the price_outlier_treatment() Function\n",
    "df=price_outlier_treatment(df)\n",
    "df.describe().T\n",
    "\n",
    "# We Observe that Price/sqft has significantly reduced from 2300000 to 24000 (check describe table)\n",
    "# We also observe that the minimum value for price/sqft is still quite low (268), we can reduce the std.dev (sd)\n",
    "#  value to 1 to further refine the range of price/sqft."
   ]
  },
  {
   "cell_type": "code",
   "execution_count": 136,
   "id": "c71831d6",
   "metadata": {},
   "outputs": [
    {
     "name": "stdout",
     "output_type": "stream",
     "text": [
      "PRICE/SQFT after Outlier Treatment  \n",
      " 8930       268.0\n",
      "9624       417.0\n",
      "10364      730.0\n",
      "8731       730.0\n",
      "11034      912.0\n",
      "          ...   \n",
      "42       22500.0\n",
      "5298     22667.0\n",
      "5285     23214.0\n",
      "1802     23719.0\n",
      "1811     24000.0\n",
      "Name: price_per_sqft, Length: 11180, dtype: float64\n"
     ]
    },
    {
     "data": {
      "text/plain": [
       "<AxesSubplot:xlabel='price_per_sqft'>"
      ]
     },
     "metadata": {},
     "output_type": "display_data"
    },
    {
     "data": {
      "image/png": "[encoded data removed]",
      "text/plain": [
       "<Figure size 432x288 with 1 Axes>"
      ]
     },
     "metadata": {
      "needs_background": "light"
     },
     "output_type": "display_data"
    }
   ],
   "source": [
    "print(\"PRICE/SQFT after Outlier Treatment \",'\\n',df.price_per_sqft.sort_values());\n",
    "display(sns.boxplot(df['price_per_sqft']));"
   ]
  },
  {
   "cell_type": "code",
   "execution_count": 137,
   "id": "e484ede4",
   "metadata": {},
   "outputs": [
    {
     "data": {
      "text/plain": [
       "(11180, 10)"
      ]
     },
     "execution_count": 137,
     "metadata": {},
     "output_type": "execute_result"
    }
   ],
   "source": [
    "df.shape"
   ]
  },
  {
   "cell_type": "code",
   "execution_count": 138,
   "id": "a93af9c4",
   "metadata": {},
   "outputs": [
    {
     "name": "stdout",
     "output_type": "stream",
     "text": [
      "BHK \n",
      " 9027      1\n",
      "9235      1\n",
      "952       1\n",
      "9209      1\n",
      "5282      1\n",
      "         ..\n",
      "9335     11\n",
      "8645     11\n",
      "10506    13\n",
      "9539     14\n",
      "8900     27\n",
      "Name: bhk, Length: 11180, dtype: int32\n"
     ]
    },
    {
     "data": {
      "text/plain": [
       "<AxesSubplot:xlabel='bhk'>"
      ]
     },
     "metadata": {},
     "output_type": "display_data"
    },
    {
     "data": {
      "image/png": "[encoded data removed]",
      "text/plain": [
       "<Figure size 432x288 with 1 Axes>"
      ]
     },
     "metadata": {
      "needs_background": "light"
     },
     "output_type": "display_data"
    }
   ],
   "source": [
    "#3. BHK : We observe that BHK column also have some outliers with range 1 to 27 but having 3rd Quartile as 3 only.\n",
    "# We will remove the Outliers by \n",
    "\n",
    "print(\"BHK\",\"\\n\",df.bhk.sort_values());\n",
    "display(sns.boxplot(df['bhk']));"
   ]
  },
  {
   "cell_type": "code",
   "execution_count": 139,
   "id": "fb10e502",
   "metadata": {},
   "outputs": [],
   "source": [
    "def bhk_outlier_treatment(data):\n",
    "    # creating an array that will store the indices that we want to exclude\n",
    "    exclude_indices = np.array([])\n",
    "    # Doing groupby on location to get location and location-subGroup for each location\n",
    "    for location,location_df in data.groupby('location'):\n",
    "        #Creating a dictionary to store bhk stats\n",
    "        bhk_stats = {}\n",
    "        \n",
    "        #For each location-subGroup, we do groupby on bhk and get bhk and bhk-subGroup for each location-subGroup\n",
    "        for bhk,bhk_df in location_df.groupby('bhk'):\n",
    "            #storing mean,std-dev and count in bhk_stats\n",
    "            bhk_stats[bhk] ={\n",
    "                'mean':np.mean(bhk_df.price_per_sqft),\n",
    "                'sd':np.std(bhk_df.price_per_sqft),\n",
    "                'count':bhk_df.shape[0]\n",
    "        }\n",
    "        # To check the raw sub-Grouped data use below print command in the next cell code\n",
    "        #print(location,bhk_df)       \n",
    "        # Comparing price/sqft of any bhk-subGroup with lower bhk mean and excluding it in case mean is higher..\n",
    "        for bhk,bhk_df in location_df.groupby('bhk'):\n",
    "            stats = bhk_stats.get(bhk-1)\n",
    "            if stats and stats['count']>5:\n",
    "                # Appending exclude_indices as per the excluded bhk after above computation\n",
    "                exclude_indices = np.append(exclude_indices, bhk_df[bhk_df.price_per_sqft < (stats['mean'])].index.values)\n",
    "    return df.drop(exclude_indices, axis='index')"
   ]
  },
  {
   "cell_type": "code",
   "execution_count": 140,
   "id": "7f6d5c8a",
   "metadata": {},
   "outputs": [],
   "source": [
    "\n",
    "## CHECKING the raw sub-grouped data (Temp output ... only 1 time)\n",
    "## The data shows: For each location - A dictionary with bhk stats for each bhk type in the location.\n",
    "##  observe : The lower bound of a (n)BHK will be mean of (n-1)BHK & \n",
    "#            Hence here we will keep the row if lowerbound(n)BHK > mean(n-1)BHK\n",
    "\n",
    "df=bhk_outlier_treatment(df)"
   ]
  },
  {
   "cell_type": "code",
   "execution_count": 141,
   "id": "639e6e29",
   "metadata": {},
   "outputs": [],
   "source": [
    "# Treating the outliers in the data by using the bhk_outlier_treatment() Function\n",
    "df=bhk_outlier_treatment(df)"
   ]
  },
  {
   "cell_type": "code",
   "execution_count": 142,
   "id": "849140d4",
   "metadata": {},
   "outputs": [
    {
     "data": {
      "text/plain": [
       "(7223, 10)"
      ]
     },
     "execution_count": 142,
     "metadata": {},
     "output_type": "execute_result"
    }
   ],
   "source": [
    "df.shape"
   ]
  },
  {
   "cell_type": "code",
   "execution_count": 143,
   "id": "a06f56de",
   "metadata": {},
   "outputs": [
    {
     "data": {
      "text/html": [
       "<div>\n",
       "<style scoped>\n",
       "    .dataframe tbody tr th:only-of-type {\n",
       "        vertical-align: middle;\n",
       "    }\n",
       "\n",
       "    .dataframe tbody tr th {\n",
       "        vertical-align: top;\n",
       "    }\n",
       "\n",
       "    .dataframe thead th {\n",
       "        text-align: right;\n",
       "    }\n",
       "</style>\n",
       "<table border=\"1\" class=\"dataframe\">\n",
       "  <thead>\n",
       "    <tr style=\"text-align: right;\">\n",
       "      <th></th>\n",
       "      <th>area_type</th>\n",
       "      <th>availability</th>\n",
       "      <th>location</th>\n",
       "      <th>size</th>\n",
       "      <th>total_sqft</th>\n",
       "      <th>bath</th>\n",
       "      <th>balcony</th>\n",
       "      <th>price</th>\n",
       "      <th>bhk</th>\n",
       "      <th>price_per_sqft</th>\n",
       "    </tr>\n",
       "  </thead>\n",
       "  <tbody>\n",
       "    <tr>\n",
       "      <th>0</th>\n",
       "      <td>Super built-up  Area</td>\n",
       "      <td>20-May</td>\n",
       "      <td>1st Block Jayanagar</td>\n",
       "      <td>4 BHK</td>\n",
       "      <td>2850.0</td>\n",
       "      <td>4.0</td>\n",
       "      <td>1.0</td>\n",
       "      <td>428.0</td>\n",
       "      <td>4</td>\n",
       "      <td>15018.0</td>\n",
       "    </tr>\n",
       "    <tr>\n",
       "      <th>1</th>\n",
       "      <td>Super built-up  Area</td>\n",
       "      <td>18-Jun</td>\n",
       "      <td>1st Block Jayanagar</td>\n",
       "      <td>3 BHK</td>\n",
       "      <td>1630.0</td>\n",
       "      <td>3.0</td>\n",
       "      <td>2.0</td>\n",
       "      <td>194.0</td>\n",
       "      <td>3</td>\n",
       "      <td>11902.0</td>\n",
       "    </tr>\n",
       "    <tr>\n",
       "      <th>2</th>\n",
       "      <td>Super built-up  Area</td>\n",
       "      <td>17-Dec</td>\n",
       "      <td>1st Block Jayanagar</td>\n",
       "      <td>6 BHK</td>\n",
       "      <td>1200.0</td>\n",
       "      <td>6.0</td>\n",
       "      <td>2.0</td>\n",
       "      <td>125.0</td>\n",
       "      <td>6</td>\n",
       "      <td>10417.0</td>\n",
       "    </tr>\n",
       "    <tr>\n",
       "      <th>3</th>\n",
       "      <td>Super built-up  Area</td>\n",
       "      <td>Ready To Move</td>\n",
       "      <td>1st Block Jayanagar</td>\n",
       "      <td>3 BHK</td>\n",
       "      <td>1875.0</td>\n",
       "      <td>2.0</td>\n",
       "      <td>3.0</td>\n",
       "      <td>235.0</td>\n",
       "      <td>3</td>\n",
       "      <td>12533.0</td>\n",
       "    </tr>\n",
       "    <tr>\n",
       "      <th>4</th>\n",
       "      <td>Super built-up  Area</td>\n",
       "      <td>Ready To Move</td>\n",
       "      <td>1st Block Jayanagar</td>\n",
       "      <td>2 BHK</td>\n",
       "      <td>1000.0</td>\n",
       "      <td>3.0</td>\n",
       "      <td>2.0</td>\n",
       "      <td>60.0</td>\n",
       "      <td>2</td>\n",
       "      <td>6000.0</td>\n",
       "    </tr>\n",
       "  </tbody>\n",
       "</table>\n",
       "</div>"
      ],
      "text/plain": [
       "              area_type   availability             location   size  \\\n",
       "0  Super built-up  Area         20-May  1st Block Jayanagar  4 BHK   \n",
       "1  Super built-up  Area         18-Jun  1st Block Jayanagar  3 BHK   \n",
       "2  Super built-up  Area         17-Dec  1st Block Jayanagar  6 BHK   \n",
       "3  Super built-up  Area  Ready To Move  1st Block Jayanagar  3 BHK   \n",
       "4  Super built-up  Area  Ready To Move  1st Block Jayanagar  2 BHK   \n",
       "\n",
       "   total_sqft  bath  balcony  price  bhk  price_per_sqft  \n",
       "0      2850.0   4.0      1.0  428.0    4         15018.0  \n",
       "1      1630.0   3.0      2.0  194.0    3         11902.0  \n",
       "2      1200.0   6.0      2.0  125.0    6         10417.0  \n",
       "3      1875.0   2.0      3.0  235.0    3         12533.0  \n",
       "4      1000.0   3.0      2.0   60.0    2          6000.0  "
      ]
     },
     "execution_count": 143,
     "metadata": {},
     "output_type": "execute_result"
    }
   ],
   "source": [
    "df.head()"
   ]
  },
  {
   "cell_type": "code",
   "execution_count": 144,
   "id": "969c53a7",
   "metadata": {
    "scrolled": true
   },
   "outputs": [
    {
     "data": {
      "text/html": [
       "<div>\n",
       "<style scoped>\n",
       "    .dataframe tbody tr th:only-of-type {\n",
       "        vertical-align: middle;\n",
       "    }\n",
       "\n",
       "    .dataframe tbody tr th {\n",
       "        vertical-align: top;\n",
       "    }\n",
       "\n",
       "    .dataframe thead th {\n",
       "        text-align: right;\n",
       "    }\n",
       "</style>\n",
       "<table border=\"1\" class=\"dataframe\">\n",
       "  <thead>\n",
       "    <tr style=\"text-align: right;\">\n",
       "      <th></th>\n",
       "      <th>total_sqft</th>\n",
       "      <th>bath</th>\n",
       "      <th>balcony</th>\n",
       "      <th>price</th>\n",
       "      <th>bhk</th>\n",
       "      <th>price_per_sqft</th>\n",
       "    </tr>\n",
       "  </thead>\n",
       "  <tbody>\n",
       "    <tr>\n",
       "      <th>total_sqft</th>\n",
       "      <td>1.000000</td>\n",
       "      <td>0.620668</td>\n",
       "      <td>0.252047</td>\n",
       "      <td>0.805945</td>\n",
       "      <td>0.555838</td>\n",
       "      <td>0.289007</td>\n",
       "    </tr>\n",
       "    <tr>\n",
       "      <th>bath</th>\n",
       "      <td>0.620668</td>\n",
       "      <td>1.000000</td>\n",
       "      <td>0.240933</td>\n",
       "      <td>0.526718</td>\n",
       "      <td>0.897292</td>\n",
       "      <td>0.409690</td>\n",
       "    </tr>\n",
       "    <tr>\n",
       "      <th>balcony</th>\n",
       "      <td>0.252047</td>\n",
       "      <td>0.240933</td>\n",
       "      <td>1.000000</td>\n",
       "      <td>0.187130</td>\n",
       "      <td>0.221023</td>\n",
       "      <td>0.074785</td>\n",
       "    </tr>\n",
       "    <tr>\n",
       "      <th>price</th>\n",
       "      <td>0.805945</td>\n",
       "      <td>0.526718</td>\n",
       "      <td>0.187130</td>\n",
       "      <td>1.000000</td>\n",
       "      <td>0.483157</td>\n",
       "      <td>0.673064</td>\n",
       "    </tr>\n",
       "    <tr>\n",
       "      <th>bhk</th>\n",
       "      <td>0.555838</td>\n",
       "      <td>0.897292</td>\n",
       "      <td>0.221023</td>\n",
       "      <td>0.483157</td>\n",
       "      <td>1.000000</td>\n",
       "      <td>0.428036</td>\n",
       "    </tr>\n",
       "    <tr>\n",
       "      <th>price_per_sqft</th>\n",
       "      <td>0.289007</td>\n",
       "      <td>0.409690</td>\n",
       "      <td>0.074785</td>\n",
       "      <td>0.673064</td>\n",
       "      <td>0.428036</td>\n",
       "      <td>1.000000</td>\n",
       "    </tr>\n",
       "  </tbody>\n",
       "</table>\n",
       "</div>"
      ],
      "text/plain": [
       "                total_sqft      bath   balcony     price       bhk  \\\n",
       "total_sqft        1.000000  0.620668  0.252047  0.805945  0.555838   \n",
       "bath              0.620668  1.000000  0.240933  0.526718  0.897292   \n",
       "balcony           0.252047  0.240933  1.000000  0.187130  0.221023   \n",
       "price             0.805945  0.526718  0.187130  1.000000  0.483157   \n",
       "bhk               0.555838  0.897292  0.221023  0.483157  1.000000   \n",
       "price_per_sqft    0.289007  0.409690  0.074785  0.673064  0.428036   \n",
       "\n",
       "                price_per_sqft  \n",
       "total_sqft            0.289007  \n",
       "bath                  0.409690  \n",
       "balcony               0.074785  \n",
       "price                 0.673064  \n",
       "bhk                   0.428036  \n",
       "price_per_sqft        1.000000  "
      ]
     },
     "execution_count": 144,
     "metadata": {},
     "output_type": "execute_result"
    }
   ],
   "source": [
    "df.corr()"
   ]
  },
  {
   "cell_type": "code",
   "execution_count": 145,
   "id": "0e947cd1",
   "metadata": {},
   "outputs": [],
   "source": [
    "# Removing the unwanted data :\n",
    "#1. Area type, Size, price_per_sqft to be dropped as they dont provide any additional info (now).\n",
    "\n",
    "df.drop(['area_type','size','price_per_sqft','balcony'],axis=1,inplace=True)"
   ]
  },
  {
   "cell_type": "code",
   "execution_count": 146,
   "id": "e895043f",
   "metadata": {},
   "outputs": [
    {
     "data": {
      "text/plain": [
       "(7223, 6)"
      ]
     },
     "execution_count": 146,
     "metadata": {},
     "output_type": "execute_result"
    }
   ],
   "source": [
    "df.shape"
   ]
  },
  {
   "cell_type": "code",
   "execution_count": 147,
   "id": "7934b8c8",
   "metadata": {},
   "outputs": [],
   "source": [
    "df.drop(['availability'],axis=1,inplace=True)"
   ]
  },
  {
   "cell_type": "code",
   "execution_count": 148,
   "id": "e7211f97",
   "metadata": {
    "scrolled": true
   },
   "outputs": [
    {
     "data": {
      "text/html": [
       "<div>\n",
       "<style scoped>\n",
       "    .dataframe tbody tr th:only-of-type {\n",
       "        vertical-align: middle;\n",
       "    }\n",
       "\n",
       "    .dataframe tbody tr th {\n",
       "        vertical-align: top;\n",
       "    }\n",
       "\n",
       "    .dataframe thead th {\n",
       "        text-align: right;\n",
       "    }\n",
       "</style>\n",
       "<table border=\"1\" class=\"dataframe\">\n",
       "  <thead>\n",
       "    <tr style=\"text-align: right;\">\n",
       "      <th></th>\n",
       "      <th>location</th>\n",
       "      <th>total_sqft</th>\n",
       "      <th>bath</th>\n",
       "      <th>price</th>\n",
       "      <th>bhk</th>\n",
       "    </tr>\n",
       "  </thead>\n",
       "  <tbody>\n",
       "    <tr>\n",
       "      <th>0</th>\n",
       "      <td>1st Block Jayanagar</td>\n",
       "      <td>2850.0</td>\n",
       "      <td>4.0</td>\n",
       "      <td>428.0</td>\n",
       "      <td>4</td>\n",
       "    </tr>\n",
       "    <tr>\n",
       "      <th>1</th>\n",
       "      <td>1st Block Jayanagar</td>\n",
       "      <td>1630.0</td>\n",
       "      <td>3.0</td>\n",
       "      <td>194.0</td>\n",
       "      <td>3</td>\n",
       "    </tr>\n",
       "    <tr>\n",
       "      <th>2</th>\n",
       "      <td>1st Block Jayanagar</td>\n",
       "      <td>1200.0</td>\n",
       "      <td>6.0</td>\n",
       "      <td>125.0</td>\n",
       "      <td>6</td>\n",
       "    </tr>\n",
       "    <tr>\n",
       "      <th>3</th>\n",
       "      <td>1st Block Jayanagar</td>\n",
       "      <td>1875.0</td>\n",
       "      <td>2.0</td>\n",
       "      <td>235.0</td>\n",
       "      <td>3</td>\n",
       "    </tr>\n",
       "    <tr>\n",
       "      <th>4</th>\n",
       "      <td>1st Block Jayanagar</td>\n",
       "      <td>1000.0</td>\n",
       "      <td>3.0</td>\n",
       "      <td>60.0</td>\n",
       "      <td>2</td>\n",
       "    </tr>\n",
       "  </tbody>\n",
       "</table>\n",
       "</div>"
      ],
      "text/plain": [
       "              location  total_sqft  bath  price  bhk\n",
       "0  1st Block Jayanagar      2850.0   4.0  428.0    4\n",
       "1  1st Block Jayanagar      1630.0   3.0  194.0    3\n",
       "2  1st Block Jayanagar      1200.0   6.0  125.0    6\n",
       "3  1st Block Jayanagar      1875.0   2.0  235.0    3\n",
       "4  1st Block Jayanagar      1000.0   3.0   60.0    2"
      ]
     },
     "execution_count": 148,
     "metadata": {},
     "output_type": "execute_result"
    }
   ],
   "source": [
    "df.head()"
   ]
  },
  {
   "cell_type": "code",
   "execution_count": 149,
   "id": "e6a29e2a",
   "metadata": {
    "scrolled": true
   },
   "outputs": [
    {
     "data": {
      "text/plain": [
       "(7223, 5)"
      ]
     },
     "execution_count": 149,
     "metadata": {},
     "output_type": "execute_result"
    }
   ],
   "source": [
    "df.shape"
   ]
  },
  {
   "cell_type": "code",
   "execution_count": 150,
   "id": "38b1e21f",
   "metadata": {},
   "outputs": [],
   "source": [
    "# Saving Cleaned data file in csv format\n",
    "df.to_csv(\"m4_1_house_price_data_cleaned.csv\")"
   ]
  },
  {
   "cell_type": "markdown",
   "id": "f2a629e5",
   "metadata": {},
   "source": [
    "### MODELING"
   ]
  },
  {
   "cell_type": "code",
   "execution_count": 151,
   "id": "7cb118c8",
   "metadata": {},
   "outputs": [],
   "source": [
    "# Spliting the Dataset\n",
    "X = df.drop(columns=['price'])\n",
    "y = df['price']"
   ]
  },
  {
   "cell_type": "code",
   "execution_count": 152,
   "id": "72eb4c35",
   "metadata": {},
   "outputs": [
    {
     "data": {
      "text/plain": [
       "(7223, 4)"
      ]
     },
     "execution_count": 152,
     "metadata": {},
     "output_type": "execute_result"
    }
   ],
   "source": [
    "X.shape"
   ]
  },
  {
   "cell_type": "code",
   "execution_count": 153,
   "id": "eb0045ef",
   "metadata": {},
   "outputs": [],
   "source": [
    "# Test- Train Split\n",
    "X_train, X_test, y_train, y_test = train_test_split(X, y, test_size=0.20 , random_state=1)"
   ]
  },
  {
   "cell_type": "code",
   "execution_count": 154,
   "id": "dde3d330",
   "metadata": {},
   "outputs": [
    {
     "data": {
      "text/plain": [
       "(5778, 4)"
      ]
     },
     "metadata": {},
     "output_type": "display_data"
    },
    {
     "data": {
      "text/plain": [
       "(1445, 4)"
      ]
     },
     "metadata": {},
     "output_type": "display_data"
    }
   ],
   "source": [
    "display(X_train.shape)\n",
    "display(X_test.shape)"
   ]
  },
  {
   "cell_type": "code",
   "execution_count": 155,
   "id": "92adfa63",
   "metadata": {},
   "outputs": [
    {
     "data": {
      "text/html": [
       "<div>\n",
       "<style scoped>\n",
       "    .dataframe tbody tr th:only-of-type {\n",
       "        vertical-align: middle;\n",
       "    }\n",
       "\n",
       "    .dataframe tbody tr th {\n",
       "        vertical-align: top;\n",
       "    }\n",
       "\n",
       "    .dataframe thead th {\n",
       "        text-align: right;\n",
       "    }\n",
       "</style>\n",
       "<table border=\"1\" class=\"dataframe\">\n",
       "  <thead>\n",
       "    <tr style=\"text-align: right;\">\n",
       "      <th></th>\n",
       "      <th>location</th>\n",
       "      <th>total_sqft</th>\n",
       "      <th>bath</th>\n",
       "      <th>bhk</th>\n",
       "    </tr>\n",
       "  </thead>\n",
       "  <tbody>\n",
       "    <tr>\n",
       "      <th>381</th>\n",
       "      <td>Ambalipura</td>\n",
       "      <td>1230.0</td>\n",
       "      <td>2.0</td>\n",
       "      <td>2</td>\n",
       "    </tr>\n",
       "    <tr>\n",
       "      <th>3707</th>\n",
       "      <td>Indira Nagar</td>\n",
       "      <td>1400.0</td>\n",
       "      <td>2.0</td>\n",
       "      <td>2</td>\n",
       "    </tr>\n",
       "    <tr>\n",
       "      <th>2584</th>\n",
       "      <td>Gottigere</td>\n",
       "      <td>1200.0</td>\n",
       "      <td>2.0</td>\n",
       "      <td>2</td>\n",
       "    </tr>\n",
       "    <tr>\n",
       "      <th>385</th>\n",
       "      <td>Ambalipura</td>\n",
       "      <td>1625.0</td>\n",
       "      <td>2.0</td>\n",
       "      <td>3</td>\n",
       "    </tr>\n",
       "    <tr>\n",
       "      <th>5499</th>\n",
       "      <td>Mico Layout</td>\n",
       "      <td>1550.0</td>\n",
       "      <td>2.0</td>\n",
       "      <td>3</td>\n",
       "    </tr>\n",
       "  </tbody>\n",
       "</table>\n",
       "</div>"
      ],
      "text/plain": [
       "          location  total_sqft  bath  bhk\n",
       "381     Ambalipura      1230.0   2.0    2\n",
       "3707  Indira Nagar      1400.0   2.0    2\n",
       "2584     Gottigere      1200.0   2.0    2\n",
       "385     Ambalipura      1625.0   2.0    3\n",
       "5499   Mico Layout      1550.0   2.0    3"
      ]
     },
     "execution_count": 155,
     "metadata": {},
     "output_type": "execute_result"
    }
   ],
   "source": [
    "X_test.head()"
   ]
  },
  {
   "cell_type": "code",
   "execution_count": 156,
   "id": "30f8778a",
   "metadata": {},
   "outputs": [
    {
     "name": "stdout",
     "output_type": "stream",
     "text": [
      "<class 'pandas.core.frame.DataFrame'>\n",
      "Int64Index: 7223 entries, 0 to 11177\n",
      "Data columns (total 5 columns):\n",
      " #   Column      Non-Null Count  Dtype  \n",
      "---  ------      --------------  -----  \n",
      " 0   location    7223 non-null   object \n",
      " 1   total_sqft  7223 non-null   float64\n",
      " 2   bath        7223 non-null   float64\n",
      " 3   price       7223 non-null   float64\n",
      " 4   bhk         7223 non-null   int32  \n",
      "dtypes: float64(3), int32(1), object(1)\n",
      "memory usage: 310.4+ KB\n"
     ]
    }
   ],
   "source": [
    "df.info()"
   ]
  },
  {
   "cell_type": "code",
   "execution_count": 187,
   "id": "52fa6c69",
   "metadata": {},
   "outputs": [],
   "source": [
    "df['bhk'] = df ['bhk'].astype ('float64')"
   ]
  },
  {
   "cell_type": "code",
   "execution_count": 188,
   "id": "11b7ac1f",
   "metadata": {},
   "outputs": [
    {
     "name": "stdout",
     "output_type": "stream",
     "text": [
      "<class 'pandas.core.frame.DataFrame'>\n",
      "Int64Index: 7223 entries, 0 to 11177\n",
      "Data columns (total 5 columns):\n",
      " #   Column      Non-Null Count  Dtype  \n",
      "---  ------      --------------  -----  \n",
      " 0   location    7223 non-null   object \n",
      " 1   total_sqft  7223 non-null   float64\n",
      " 2   bath        7223 non-null   float64\n",
      " 3   price       7223 non-null   float64\n",
      " 4   bhk         7223 non-null   float64\n",
      "dtypes: float64(4), object(1)\n",
      "memory usage: 338.6+ KB\n"
     ]
    }
   ],
   "source": [
    "df.info()"
   ]
  },
  {
   "cell_type": "markdown",
   "id": "00a008f2",
   "metadata": {},
   "source": [
    "### Applying Linear Regression"
   ]
  },
  {
   "cell_type": "code",
   "execution_count": 189,
   "id": "2c3ff1c0",
   "metadata": {},
   "outputs": [],
   "source": [
    "# Using Column_transformation for categorical Features (Ready_to_move and location)\n",
    "col_trans = make_column_transformer((OneHotEncoder(sparse=False),['location']),remainder='passthrough')"
   ]
  },
  {
   "cell_type": "code",
   "execution_count": 190,
   "id": "b65c1a5d",
   "metadata": {},
   "outputs": [],
   "source": [
    "scaler = StandardScaler()"
   ]
  },
  {
   "cell_type": "code",
   "execution_count": 191,
   "id": "5e3fd796",
   "metadata": {},
   "outputs": [],
   "source": [
    "lr = LinearRegression(normalize=True)"
   ]
  },
  {
   "cell_type": "code",
   "execution_count": 192,
   "id": "8c1899d0",
   "metadata": {},
   "outputs": [],
   "source": [
    "pipe = make_pipeline(col_trans,scaler,lr)"
   ]
  },
  {
   "cell_type": "code",
   "execution_count": 193,
   "id": "129aa076",
   "metadata": {},
   "outputs": [
    {
     "data": {
      "text/plain": [
       "Pipeline(steps=[('columntransformer',\n",
       "                 ColumnTransformer(remainder='passthrough',\n",
       "                                   transformers=[('onehotencoder',\n",
       "                                                  OneHotEncoder(sparse=False),\n",
       "                                                  ['location'])])),\n",
       "                ('standardscaler', StandardScaler()),\n",
       "                ('linearregression', LinearRegression(normalize=True))])"
      ]
     },
     "execution_count": 193,
     "metadata": {},
     "output_type": "execute_result"
    }
   ],
   "source": [
    "pipe.fit(X_train,y_train)"
   ]
  },
  {
   "cell_type": "code",
   "execution_count": 194,
   "id": "58a9a902",
   "metadata": {},
   "outputs": [],
   "source": [
    "y_pred_lr = pipe.predict(X_test)"
   ]
  },
  {
   "cell_type": "code",
   "execution_count": 195,
   "id": "957888fe",
   "metadata": {},
   "outputs": [
    {
     "data": {
      "text/plain": [
       "0.7975734216361586"
      ]
     },
     "execution_count": 195,
     "metadata": {},
     "output_type": "execute_result"
    }
   ],
   "source": [
    "r2_score(y_test,y_pred_lr)"
   ]
  },
  {
   "cell_type": "markdown",
   "id": "e6f6ec70",
   "metadata": {},
   "source": [
    "### Applying Lasso regression"
   ]
  },
  {
   "cell_type": "code",
   "execution_count": 196,
   "id": "f399fb7d",
   "metadata": {},
   "outputs": [],
   "source": [
    "lasso=Lasso()"
   ]
  },
  {
   "cell_type": "code",
   "execution_count": 197,
   "id": "3f9d769d",
   "metadata": {},
   "outputs": [],
   "source": [
    "pipe = make_pipeline(col_trans,scaler,lasso)"
   ]
  },
  {
   "cell_type": "code",
   "execution_count": 198,
   "id": "c00e65c3",
   "metadata": {},
   "outputs": [
    {
     "data": {
      "text/plain": [
       "Pipeline(steps=[('columntransformer',\n",
       "                 ColumnTransformer(remainder='passthrough',\n",
       "                                   transformers=[('onehotencoder',\n",
       "                                                  OneHotEncoder(sparse=False),\n",
       "                                                  ['location'])])),\n",
       "                ('standardscaler', StandardScaler()), ('lasso', Lasso())])"
      ]
     },
     "execution_count": 198,
     "metadata": {},
     "output_type": "execute_result"
    }
   ],
   "source": [
    "pipe.fit(X_train,y_train)"
   ]
  },
  {
   "cell_type": "code",
   "execution_count": 199,
   "id": "000830a9",
   "metadata": {},
   "outputs": [],
   "source": [
    "y_pred_lasso = pipe.predict(X_test)"
   ]
  },
  {
   "cell_type": "code",
   "execution_count": 200,
   "id": "4d163bee",
   "metadata": {},
   "outputs": [
    {
     "data": {
      "text/plain": [
       "0.7943623474251221"
      ]
     },
     "execution_count": 200,
     "metadata": {},
     "output_type": "execute_result"
    }
   ],
   "source": [
    "r2_score(y_test,y_pred_lasso)"
   ]
  },
  {
   "cell_type": "markdown",
   "id": "3e3a10d7",
   "metadata": {},
   "source": [
    "### Applying Ridge regression"
   ]
  },
  {
   "cell_type": "code",
   "execution_count": 201,
   "id": "574eedaa",
   "metadata": {},
   "outputs": [],
   "source": [
    "ridge=Ridge()"
   ]
  },
  {
   "cell_type": "code",
   "execution_count": 202,
   "id": "0a191095",
   "metadata": {},
   "outputs": [],
   "source": [
    "pipe = make_pipeline(col_trans,scaler,ridge)"
   ]
  },
  {
   "cell_type": "code",
   "execution_count": 203,
   "id": "cae61c58",
   "metadata": {},
   "outputs": [
    {
     "data": {
      "text/plain": [
       "Pipeline(steps=[('columntransformer',\n",
       "                 ColumnTransformer(remainder='passthrough',\n",
       "                                   transformers=[('onehotencoder',\n",
       "                                                  OneHotEncoder(sparse=False),\n",
       "                                                  ['location'])])),\n",
       "                ('standardscaler', StandardScaler()), ('ridge', Ridge())])"
      ]
     },
     "execution_count": 203,
     "metadata": {},
     "output_type": "execute_result"
    }
   ],
   "source": [
    "pipe.fit(X_train,y_train)"
   ]
  },
  {
   "cell_type": "code",
   "execution_count": 204,
   "id": "b03e95d2",
   "metadata": {},
   "outputs": [],
   "source": [
    "y_pred_ridge = pipe.predict(X_test)"
   ]
  },
  {
   "cell_type": "code",
   "execution_count": 205,
   "id": "1df310fe",
   "metadata": {},
   "outputs": [
    {
     "data": {
      "text/plain": [
       "0.797721131187549"
      ]
     },
     "execution_count": 205,
     "metadata": {},
     "output_type": "execute_result"
    }
   ],
   "source": [
    "r2_score(y_test,y_pred_ridge)"
   ]
  },
  {
   "cell_type": "code",
   "execution_count": 206,
   "id": "78776827",
   "metadata": {},
   "outputs": [
    {
     "name": "stdout",
     "output_type": "stream",
     "text": [
      "Linear Regression 0.7975734216361586\n",
      "Lasso 0.7943623474251221\n",
      "Ridge 0.797721131187549\n"
     ]
    }
   ],
   "source": [
    "print(\"Linear Regression\",r2_score(y_test,y_pred_lr))\n",
    "print(\"Lasso\",r2_score(y_test,y_pred_lasso))\n",
    "print(\"Ridge\",r2_score(y_test,y_pred_ridge))"
   ]
  },
  {
   "cell_type": "code",
   "execution_count": 207,
   "id": "7884191c",
   "metadata": {},
   "outputs": [
    {
     "name": "stdout",
     "output_type": "stream",
     "text": [
      "<class 'pandas.core.frame.DataFrame'>\n",
      "Int64Index: 7223 entries, 0 to 11177\n",
      "Data columns (total 5 columns):\n",
      " #   Column      Non-Null Count  Dtype  \n",
      "---  ------      --------------  -----  \n",
      " 0   location    7223 non-null   object \n",
      " 1   total_sqft  7223 non-null   float64\n",
      " 2   bath        7223 non-null   float64\n",
      " 3   price       7223 non-null   float64\n",
      " 4   bhk         7223 non-null   float64\n",
      "dtypes: float64(4), object(1)\n",
      "memory usage: 338.6+ KB\n"
     ]
    }
   ],
   "source": [
    "df.info()"
   ]
  },
  {
   "cell_type": "markdown",
   "id": "15ed70e1",
   "metadata": {},
   "source": [
    "### Convert to Pickle file for model deployment"
   ]
  },
  {
   "cell_type": "code",
   "execution_count": 208,
   "id": "8c63da41",
   "metadata": {},
   "outputs": [],
   "source": [
    "import pickle"
   ]
  },
  {
   "cell_type": "code",
   "execution_count": 209,
   "id": "411c5b5e",
   "metadata": {},
   "outputs": [],
   "source": [
    "pickle.dump(pipe,open('RidgeModel_4_1.pkl','wb'))"
   ]
  }
 ],
 "metadata": {
  "kernelspec": {
   "display_name": "Python 3 (ipykernel)",
   "language": "python",
   "name": "python3"
  },
  "language_info": {
   "codemirror_mode": {
    "name": "ipython",
    "version": 3
   },
   "file_extension": ".py",
   "mimetype": "text/x-python",
   "name": "python",
   "nbconvert_exporter": "python",
   "pygments_lexer": "ipython3",
   "version": "3.9.12"
  }
 },
 "nbformat": 4,
 "nbformat_minor": 5
}
